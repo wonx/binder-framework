{
 "cells": [
  {
   "attachments": {},
   "cell_type": "markdown",
   "metadata": {},
   "source": [
    "### Pandas"
   ]
  },
  {
   "cell_type": "code",
   "execution_count": 1,
   "metadata": {},
   "outputs": [],
   "source": [
    "import pandas as pd"
   ]
  },
  {
   "cell_type": "code",
   "execution_count": 3,
   "metadata": {},
   "outputs": [],
   "source": [
    "df = pd.read_csv(\"Value_of_Energy_Cost_Savings_Program_Savings_for_Businesses_-_FY2020.csv\")"
   ]
  },
  {
   "cell_type": "code",
   "execution_count": 4,
   "metadata": {},
   "outputs": [
    {
     "data": {
      "text/html": [
       "<div>\n",
       "<style scoped>\n",
       "    .dataframe tbody tr th:only-of-type {\n",
       "        vertical-align: middle;\n",
       "    }\n",
       "\n",
       "    .dataframe tbody tr th {\n",
       "        vertical-align: top;\n",
       "    }\n",
       "\n",
       "    .dataframe thead th {\n",
       "        text-align: right;\n",
       "    }\n",
       "</style>\n",
       "<table border=\"1\" class=\"dataframe\">\n",
       "  <thead>\n",
       "    <tr style=\"text-align: right;\">\n",
       "      <th></th>\n",
       "      <th>Company Name</th>\n",
       "      <th>company contact</th>\n",
       "      <th>company email</th>\n",
       "      <th>company phone</th>\n",
       "      <th>Address</th>\n",
       "      <th>City</th>\n",
       "      <th>State</th>\n",
       "      <th>Postcode</th>\n",
       "      <th>Industry</th>\n",
       "      <th>Industry descr</th>\n",
       "      <th>...</th>\n",
       "      <th>Savings from beginning receiving benefits</th>\n",
       "      <th>Borough</th>\n",
       "      <th>Latitude</th>\n",
       "      <th>Longitude</th>\n",
       "      <th>Community Board</th>\n",
       "      <th>Council District</th>\n",
       "      <th>Census Tract</th>\n",
       "      <th>BIN</th>\n",
       "      <th>BBL</th>\n",
       "      <th>NTA</th>\n",
       "    </tr>\n",
       "  </thead>\n",
       "  <tbody>\n",
       "    <tr>\n",
       "      <th>0</th>\n",
       "      <td>1 State Street</td>\n",
       "      <td>David Neiburg</td>\n",
       "      <td>eskoblo@energyspec.com</td>\n",
       "      <td>7186779077</td>\n",
       "      <td>1114 Avenue J</td>\n",
       "      <td>Brooklyn</td>\n",
       "      <td>NY</td>\n",
       "      <td>11230</td>\n",
       "      <td>Commercial</td>\n",
       "      <td>35 story building</td>\n",
       "      <td>...</td>\n",
       "      <td>349.78</td>\n",
       "      <td>Brooklyn</td>\n",
       "      <td>40.624784</td>\n",
       "      <td>-73.964920</td>\n",
       "      <td>314.0</td>\n",
       "      <td>44.0</td>\n",
       "      <td>534.0</td>\n",
       "      <td>3179818.0</td>\n",
       "      <td>3.067130e+09</td>\n",
       "      <td>Midwood</td>\n",
       "    </tr>\n",
       "    <tr>\n",
       "      <th>1</th>\n",
       "      <td>100 Church LLC</td>\n",
       "      <td>Edward A. Carroll</td>\n",
       "      <td>NaN</td>\n",
       "      <td>2125663000</td>\n",
       "      <td>100 Church Street</td>\n",
       "      <td>NY</td>\n",
       "      <td>NY</td>\n",
       "      <td>10007</td>\n",
       "      <td>Commercial</td>\n",
       "      <td>21 Floors</td>\n",
       "      <td>...</td>\n",
       "      <td>4423698.05</td>\n",
       "      <td>New York</td>\n",
       "      <td>40.712968</td>\n",
       "      <td>-74.009490</td>\n",
       "      <td>101.0</td>\n",
       "      <td>1.0</td>\n",
       "      <td>21.0</td>\n",
       "      <td>1001409.0</td>\n",
       "      <td>1.001250e+09</td>\n",
       "      <td>SoHo-TriBeCa-Civic Center-Little Italy</td>\n",
       "    </tr>\n",
       "    <tr>\n",
       "      <th>2</th>\n",
       "      <td>100 Wall Investments</td>\n",
       "      <td>Jerry Branam</td>\n",
       "      <td>NaN</td>\n",
       "      <td>2122487160</td>\n",
       "      <td>96 Wall Street</td>\n",
       "      <td>New York</td>\n",
       "      <td>NY</td>\n",
       "      <td>10005</td>\n",
       "      <td>Landlord</td>\n",
       "      <td>NaN</td>\n",
       "      <td>...</td>\n",
       "      <td>1814542.62</td>\n",
       "      <td>New York</td>\n",
       "      <td>40.705052</td>\n",
       "      <td>-74.007199</td>\n",
       "      <td>101.0</td>\n",
       "      <td>1.0</td>\n",
       "      <td>7.0</td>\n",
       "      <td>1000875.0</td>\n",
       "      <td>1.000380e+09</td>\n",
       "      <td>Battery Park City-Lower Manhattan</td>\n",
       "    </tr>\n",
       "  </tbody>\n",
       "</table>\n",
       "<p>3 rows × 26 columns</p>\n",
       "</div>"
      ],
      "text/plain": [
       "           Company Name    company contact           company email  \\\n",
       "0        1 State Street      David Neiburg  eskoblo@energyspec.com   \n",
       "1        100 Church LLC  Edward A. Carroll                     NaN   \n",
       "2  100 Wall Investments       Jerry Branam                     NaN   \n",
       "\n",
       "  company phone            Address      City State  Postcode    Industry  \\\n",
       "0    7186779077      1114 Avenue J  Brooklyn    NY     11230  Commercial   \n",
       "1    2125663000  100 Church Street        NY    NY     10007  Commercial   \n",
       "2    2122487160     96 Wall Street  New York    NY     10005    Landlord   \n",
       "\n",
       "      Industry descr  ... Savings from beginning receiving benefits   Borough  \\\n",
       "0  35 story building  ...                                    349.78  Brooklyn   \n",
       "1          21 Floors  ...                                4423698.05  New York   \n",
       "2                NaN  ...                                1814542.62  New York   \n",
       "\n",
       "    Latitude  Longitude Community Board  Council District  Census Tract  \\\n",
       "0  40.624784 -73.964920           314.0              44.0         534.0   \n",
       "1  40.712968 -74.009490           101.0               1.0          21.0   \n",
       "2  40.705052 -74.007199           101.0               1.0           7.0   \n",
       "\n",
       "         BIN           BBL                                     NTA  \n",
       "0  3179818.0  3.067130e+09                                 Midwood  \n",
       "1  1001409.0  1.001250e+09  SoHo-TriBeCa-Civic Center-Little Italy  \n",
       "2  1000875.0  1.000380e+09       Battery Park City-Lower Manhattan  \n",
       "\n",
       "[3 rows x 26 columns]"
      ]
     },
     "execution_count": 4,
     "metadata": {},
     "output_type": "execute_result"
    }
   ],
   "source": [
    "df.head(3)"
   ]
  },
  {
   "cell_type": "markdown",
   "metadata": {},
   "source": [
    "How many different companies are represented in the data set?"
   ]
  },
  {
   "cell_type": "code",
   "execution_count": 5,
   "metadata": {},
   "outputs": [
    {
     "data": {
      "text/plain": [
       "439"
      ]
     },
     "execution_count": 5,
     "metadata": {},
     "output_type": "execute_result"
    }
   ],
   "source": [
    "df[\"Company Name\"].nunique()"
   ]
  },
  {
   "cell_type": "markdown",
   "metadata": {},
   "source": [
    "What is the total number of jobs created for businesses in Queens?\n"
   ]
  },
  {
   "cell_type": "code",
   "execution_count": 6,
   "metadata": {},
   "outputs": [
    {
     "data": {
      "text/plain": [
       "149.0"
      ]
     },
     "execution_count": 6,
     "metadata": {},
     "output_type": "execute_result"
    }
   ],
   "source": [
    "df['Job created'].sum()"
   ]
  },
  {
   "cell_type": "markdown",
   "metadata": {},
   "source": [
    "How many different unique email domains names are there in the data set?"
   ]
  },
  {
   "cell_type": "code",
   "execution_count": 7,
   "metadata": {},
   "outputs": [
    {
     "data": {
      "text/plain": [
       "356"
      ]
     },
     "execution_count": 7,
     "metadata": {},
     "output_type": "execute_result"
    }
   ],
   "source": [
    "df['company email'].str.split(\"@\").str[1].nunique()"
   ]
  },
  {
   "cell_type": "markdown",
   "metadata": {},
   "source": [
    "Considering only NTAs with at least 5 listed businesses, what is the average total savings and the total jobs created for each NTA?"
   ]
  },
  {
   "cell_type": "code",
   "execution_count": 8,
   "metadata": {},
   "outputs": [
    {
     "name": "stdout",
     "output_type": "stream",
     "text": [
      "Total savings: 36655.65520270271\n",
      "Total jobs created: 79.0\n"
     ]
    }
   ],
   "source": [
    "df_nta = df[['NTA', 'Company Name']].groupby('NTA').nunique()\n",
    "df_nta = df_nta[df_nta['Company Name'].values > 5]\n",
    "\n",
    "df3 = pd.merge(df, df_nta, on=['NTA', 'NTA'])\n",
    "print(f\"Total savings: {df3['Total Savings'].mean()}\")\n",
    "print(f\"Total jobs created: {df3['Job created'].sum()}\")\n",
    "df_nta_totalsavings = df3.groupby('NTA')['Total Savings'].mean()\n",
    "df_nta_jobscreated = df3.groupby('NTA')['Job created'].mean()"
   ]
  },
  {
   "cell_type": "markdown",
   "metadata": {},
   "source": [
    "Save your result for the previous question as a CSV file."
   ]
  },
  {
   "cell_type": "code",
   "execution_count": 9,
   "metadata": {},
   "outputs": [],
   "source": [
    "df_nta_totalsavings.to_csv('nta_totalsavings.csv')\n",
    "df_nta_jobscreated.to_csv('nta_jobscreated.csv')"
   ]
  },
  {
   "attachments": {},
   "cell_type": "markdown",
   "metadata": {},
   "source": [
    "### Matplotlib"
   ]
  },
  {
   "cell_type": "code",
   "execution_count": 10,
   "metadata": {},
   "outputs": [],
   "source": [
    "df = pd.read_csv(\"Value_of_Energy_Cost_Savings_Program_Savings_for_Businesses_-_FY2020.csv\")"
   ]
  },
  {
   "cell_type": "code",
   "execution_count": 11,
   "metadata": {},
   "outputs": [
    {
     "data": {
      "text/html": [
       "<div>\n",
       "<style scoped>\n",
       "    .dataframe tbody tr th:only-of-type {\n",
       "        vertical-align: middle;\n",
       "    }\n",
       "\n",
       "    .dataframe tbody tr th {\n",
       "        vertical-align: top;\n",
       "    }\n",
       "\n",
       "    .dataframe thead th {\n",
       "        text-align: right;\n",
       "    }\n",
       "</style>\n",
       "<table border=\"1\" class=\"dataframe\">\n",
       "  <thead>\n",
       "    <tr style=\"text-align: right;\">\n",
       "      <th></th>\n",
       "      <th>Company Name</th>\n",
       "      <th>company contact</th>\n",
       "      <th>company email</th>\n",
       "      <th>company phone</th>\n",
       "      <th>Address</th>\n",
       "      <th>City</th>\n",
       "      <th>State</th>\n",
       "      <th>Postcode</th>\n",
       "      <th>Industry</th>\n",
       "      <th>Industry descr</th>\n",
       "      <th>...</th>\n",
       "      <th>Savings from beginning receiving benefits</th>\n",
       "      <th>Borough</th>\n",
       "      <th>Latitude</th>\n",
       "      <th>Longitude</th>\n",
       "      <th>Community Board</th>\n",
       "      <th>Council District</th>\n",
       "      <th>Census Tract</th>\n",
       "      <th>BIN</th>\n",
       "      <th>BBL</th>\n",
       "      <th>NTA</th>\n",
       "    </tr>\n",
       "  </thead>\n",
       "  <tbody>\n",
       "    <tr>\n",
       "      <th>0</th>\n",
       "      <td>1 State Street</td>\n",
       "      <td>David Neiburg</td>\n",
       "      <td>eskoblo@energyspec.com</td>\n",
       "      <td>7186779077</td>\n",
       "      <td>1114 Avenue J</td>\n",
       "      <td>Brooklyn</td>\n",
       "      <td>NY</td>\n",
       "      <td>11230</td>\n",
       "      <td>Commercial</td>\n",
       "      <td>35 story building</td>\n",
       "      <td>...</td>\n",
       "      <td>349.78</td>\n",
       "      <td>Brooklyn</td>\n",
       "      <td>40.624784</td>\n",
       "      <td>-73.964920</td>\n",
       "      <td>314.0</td>\n",
       "      <td>44.0</td>\n",
       "      <td>534.0</td>\n",
       "      <td>3179818.0</td>\n",
       "      <td>3.067130e+09</td>\n",
       "      <td>Midwood</td>\n",
       "    </tr>\n",
       "    <tr>\n",
       "      <th>1</th>\n",
       "      <td>100 Church LLC</td>\n",
       "      <td>Edward A. Carroll</td>\n",
       "      <td>NaN</td>\n",
       "      <td>2125663000</td>\n",
       "      <td>100 Church Street</td>\n",
       "      <td>NY</td>\n",
       "      <td>NY</td>\n",
       "      <td>10007</td>\n",
       "      <td>Commercial</td>\n",
       "      <td>21 Floors</td>\n",
       "      <td>...</td>\n",
       "      <td>4423698.05</td>\n",
       "      <td>New York</td>\n",
       "      <td>40.712968</td>\n",
       "      <td>-74.009490</td>\n",
       "      <td>101.0</td>\n",
       "      <td>1.0</td>\n",
       "      <td>21.0</td>\n",
       "      <td>1001409.0</td>\n",
       "      <td>1.001250e+09</td>\n",
       "      <td>SoHo-TriBeCa-Civic Center-Little Italy</td>\n",
       "    </tr>\n",
       "    <tr>\n",
       "      <th>2</th>\n",
       "      <td>100 Wall Investments</td>\n",
       "      <td>Jerry Branam</td>\n",
       "      <td>NaN</td>\n",
       "      <td>2122487160</td>\n",
       "      <td>96 Wall Street</td>\n",
       "      <td>New York</td>\n",
       "      <td>NY</td>\n",
       "      <td>10005</td>\n",
       "      <td>Landlord</td>\n",
       "      <td>NaN</td>\n",
       "      <td>...</td>\n",
       "      <td>1814542.62</td>\n",
       "      <td>New York</td>\n",
       "      <td>40.705052</td>\n",
       "      <td>-74.007199</td>\n",
       "      <td>101.0</td>\n",
       "      <td>1.0</td>\n",
       "      <td>7.0</td>\n",
       "      <td>1000875.0</td>\n",
       "      <td>1.000380e+09</td>\n",
       "      <td>Battery Park City-Lower Manhattan</td>\n",
       "    </tr>\n",
       "  </tbody>\n",
       "</table>\n",
       "<p>3 rows × 26 columns</p>\n",
       "</div>"
      ],
      "text/plain": [
       "           Company Name    company contact           company email  \\\n",
       "0        1 State Street      David Neiburg  eskoblo@energyspec.com   \n",
       "1        100 Church LLC  Edward A. Carroll                     NaN   \n",
       "2  100 Wall Investments       Jerry Branam                     NaN   \n",
       "\n",
       "  company phone            Address      City State  Postcode    Industry  \\\n",
       "0    7186779077      1114 Avenue J  Brooklyn    NY     11230  Commercial   \n",
       "1    2125663000  100 Church Street        NY    NY     10007  Commercial   \n",
       "2    2122487160     96 Wall Street  New York    NY     10005    Landlord   \n",
       "\n",
       "      Industry descr  ... Savings from beginning receiving benefits   Borough  \\\n",
       "0  35 story building  ...                                    349.78  Brooklyn   \n",
       "1          21 Floors  ...                                4423698.05  New York   \n",
       "2                NaN  ...                                1814542.62  New York   \n",
       "\n",
       "    Latitude  Longitude Community Board  Council District  Census Tract  \\\n",
       "0  40.624784 -73.964920           314.0              44.0         534.0   \n",
       "1  40.712968 -74.009490           101.0               1.0          21.0   \n",
       "2  40.705052 -74.007199           101.0               1.0           7.0   \n",
       "\n",
       "         BIN           BBL                                     NTA  \n",
       "0  3179818.0  3.067130e+09                                 Midwood  \n",
       "1  1001409.0  1.001250e+09  SoHo-TriBeCa-Civic Center-Little Italy  \n",
       "2  1000875.0  1.000380e+09       Battery Park City-Lower Manhattan  \n",
       "\n",
       "[3 rows x 26 columns]"
      ]
     },
     "execution_count": 11,
     "metadata": {},
     "output_type": "execute_result"
    }
   ],
   "source": [
    "df.head(3)"
   ]
  },
  {
   "cell_type": "code",
   "execution_count": 12,
   "metadata": {},
   "outputs": [
    {
     "name": "stderr",
     "output_type": "stream",
     "text": [
      "/tmp/ipykernel_23232/1703867807.py:1: FutureWarning: Dropping of nuisance columns in DataFrame reductions (with 'numeric_only=None') is deprecated; in a future version this will raise TypeError.  Select only valid columns before calling the reduction.\n",
      "  df.sum()\n"
     ]
    },
    {
     "data": {
      "text/plain": [
       "Company Name                                 1 State Street100 Church LLC100 Wall Investmen...\n",
       "company contact                              David NeiburgEdward A. CarrollJerry BranamAndr...\n",
       "company phone                                7186779077212566300021224871603474178429212406...\n",
       "Address                                      1114 Avenue J100 Church Street96 Wall Street22...\n",
       "City                                         BrooklynNYNew YorkBrooklynNew YorkNew YorkLong...\n",
       "State                                        NYNYNYNYNYNYNYNYNYNYNYNYNYNYNYNYNYNYNYNYNYNYNY...\n",
       "Postcode                                                                               4960856\n",
       "Industry                                     CommercialCommercialLandlordLandlordCommercial...\n",
       "Company Type                                 LMEPLMEPLMEPECSPLMEPLMEPECSPECSPECSPECSPLMEPLM...\n",
       "Current fulltime                                                                       55387.0\n",
       "Job created                                                                              149.0\n",
       "Job retain                                                                              4165.0\n",
       "Effective Date                               03/04/200504/02/200801/05/201502/03/202006/30/...\n",
       "Total Savings                                                                      17747002.03\n",
       "Savings from beginning receiving benefits                                         190557035.01\n",
       "Borough                                      BrooklynNew YorkNew YorkBrooklynNew YorkNew Yo...\n",
       "Latitude                                                                          16655.417862\n",
       "Longitude                                                                        -30242.431722\n",
       "Community Board                                                                       130055.0\n",
       "Council District                                                                       11380.0\n",
       "Census Tract                                                                          838074.0\n",
       "BIN                                                                               1321653570.0\n",
       "BBL                                                                            1268522620440.0\n",
       "dtype: object"
      ]
     },
     "execution_count": 12,
     "metadata": {},
     "output_type": "execute_result"
    }
   ],
   "source": [
    "df.sum()"
   ]
  },
  {
   "attachments": {},
   "cell_type": "markdown",
   "metadata": {},
   "source": [
    "scatter plot of jobs created versus average savings. Use both a standard and a logarithmic scale for the average savings."
   ]
  },
  {
   "cell_type": "code",
   "execution_count": 13,
   "metadata": {},
   "outputs": [
    {
     "name": "stdout",
     "output_type": "stream",
     "text": [
      "(450, 26)\n"
     ]
    },
    {
     "data": {
      "text/html": [
       "<div>\n",
       "<style scoped>\n",
       "    .dataframe tbody tr th:only-of-type {\n",
       "        vertical-align: middle;\n",
       "    }\n",
       "\n",
       "    .dataframe tbody tr th {\n",
       "        vertical-align: top;\n",
       "    }\n",
       "\n",
       "    .dataframe thead th {\n",
       "        text-align: right;\n",
       "    }\n",
       "</style>\n",
       "<table border=\"1\" class=\"dataframe\">\n",
       "  <thead>\n",
       "    <tr style=\"text-align: right;\">\n",
       "      <th></th>\n",
       "      <th>Company Name</th>\n",
       "      <th>company contact</th>\n",
       "      <th>company email</th>\n",
       "      <th>company phone</th>\n",
       "      <th>Address</th>\n",
       "      <th>City</th>\n",
       "      <th>State</th>\n",
       "      <th>Postcode</th>\n",
       "      <th>Industry</th>\n",
       "      <th>Industry descr</th>\n",
       "      <th>...</th>\n",
       "      <th>Savings from beginning receiving benefits</th>\n",
       "      <th>Borough</th>\n",
       "      <th>Latitude</th>\n",
       "      <th>Longitude</th>\n",
       "      <th>Community Board</th>\n",
       "      <th>Council District</th>\n",
       "      <th>Census Tract</th>\n",
       "      <th>BIN</th>\n",
       "      <th>BBL</th>\n",
       "      <th>NTA</th>\n",
       "    </tr>\n",
       "  </thead>\n",
       "  <tbody>\n",
       "    <tr>\n",
       "      <th>34</th>\n",
       "      <td>Albert Einstein College of Medicine R&amp;D</td>\n",
       "      <td>Jack Zencheck</td>\n",
       "      <td>mwinkle1@yu.edu</td>\n",
       "      <td>7184308977</td>\n",
       "      <td>1196 Pierce Avenue</td>\n",
       "      <td>Bronx</td>\n",
       "      <td>NY</td>\n",
       "      <td>10461</td>\n",
       "      <td>Other</td>\n",
       "      <td>Research facility</td>\n",
       "      <td>...</td>\n",
       "      <td>5779327.33</td>\n",
       "      <td>Bronx</td>\n",
       "      <td>40.848176</td>\n",
       "      <td>-73.846583</td>\n",
       "      <td>211.0</td>\n",
       "      <td>13.0</td>\n",
       "      <td>286.0</td>\n",
       "      <td>2044325.0</td>\n",
       "      <td>2.040900e+09</td>\n",
       "      <td>Van Nest-Morris Park-Westchester Square</td>\n",
       "    </tr>\n",
       "    <tr>\n",
       "      <th>162</th>\n",
       "      <td>FEDERAL EXPRESS</td>\n",
       "      <td>Samuel Adamson</td>\n",
       "      <td>sam.adamson@fedex.com</td>\n",
       "      <td>7187886000</td>\n",
       "      <td>830 Fountain Avenue</td>\n",
       "      <td>Brooklyn</td>\n",
       "      <td>NY</td>\n",
       "      <td>11239</td>\n",
       "      <td>Commercial</td>\n",
       "      <td>OVERNIGHT SHP.</td>\n",
       "      <td>...</td>\n",
       "      <td>378098.57</td>\n",
       "      <td>Brooklyn</td>\n",
       "      <td>40.659816</td>\n",
       "      <td>-73.866717</td>\n",
       "      <td>305.0</td>\n",
       "      <td>42.0</td>\n",
       "      <td>1070.0</td>\n",
       "      <td>3346449.0</td>\n",
       "      <td>3.044520e+09</td>\n",
       "      <td>East New York</td>\n",
       "    </tr>\n",
       "    <tr>\n",
       "      <th>163</th>\n",
       "      <td>FEDERAL EXPRESS</td>\n",
       "      <td>Samuel Adamson</td>\n",
       "      <td>sam.adamson@fedex.com</td>\n",
       "      <td>7187886000</td>\n",
       "      <td>830 Fountain Avenue</td>\n",
       "      <td>Brooklyn</td>\n",
       "      <td>NY</td>\n",
       "      <td>11239</td>\n",
       "      <td>Commercial</td>\n",
       "      <td>OVERNIGHT SHP.</td>\n",
       "      <td>...</td>\n",
       "      <td>467120.83</td>\n",
       "      <td>Brooklyn</td>\n",
       "      <td>40.659816</td>\n",
       "      <td>-73.866717</td>\n",
       "      <td>305.0</td>\n",
       "      <td>42.0</td>\n",
       "      <td>1070.0</td>\n",
       "      <td>3346449.0</td>\n",
       "      <td>3.044520e+09</td>\n",
       "      <td>East New York</td>\n",
       "    </tr>\n",
       "    <tr>\n",
       "      <th>173</th>\n",
       "      <td>FRESH DIRECT LLC</td>\n",
       "      <td>JOE LACY</td>\n",
       "      <td>gbennett@freshdirect.com</td>\n",
       "      <td>2128222203</td>\n",
       "      <td>23-30 BORDEN AVENUE</td>\n",
       "      <td>Queens</td>\n",
       "      <td>NY</td>\n",
       "      <td>11101</td>\n",
       "      <td>Manufacturing</td>\n",
       "      <td>MFG. PERIS. FOOD</td>\n",
       "      <td>...</td>\n",
       "      <td>1989179.05</td>\n",
       "      <td>Queens</td>\n",
       "      <td>40.739918</td>\n",
       "      <td>-73.947213</td>\n",
       "      <td>402.0</td>\n",
       "      <td>26.0</td>\n",
       "      <td>1.0</td>\n",
       "      <td>4436621.0</td>\n",
       "      <td>4.000680e+09</td>\n",
       "      <td>Hunters Point-Sunnyside-West Maspeth</td>\n",
       "    </tr>\n",
       "    <tr>\n",
       "      <th>227</th>\n",
       "      <td>JetBlue Airways, Corp.</td>\n",
       "      <td>Dave Barger</td>\n",
       "      <td>Dave.Barger.@Jetblue.com</td>\n",
       "      <td>718-286-79</td>\n",
       "      <td>27-01 Bridge Plaza North</td>\n",
       "      <td>Long Island City</td>\n",
       "      <td>NY</td>\n",
       "      <td>11101</td>\n",
       "      <td>Other</td>\n",
       "      <td>Back Office</td>\n",
       "      <td>...</td>\n",
       "      <td>592457.59</td>\n",
       "      <td>Queens</td>\n",
       "      <td>40.750561</td>\n",
       "      <td>-73.939315</td>\n",
       "      <td>401.0</td>\n",
       "      <td>26.0</td>\n",
       "      <td>33.0</td>\n",
       "      <td>4005016.0</td>\n",
       "      <td>4.004160e+09</td>\n",
       "      <td>Queensbridge-Ravenswood-Long Island City</td>\n",
       "    </tr>\n",
       "    <tr>\n",
       "      <th>242</th>\n",
       "      <td>KEPCO, INC.</td>\n",
       "      <td>MARTIN KUPFERBERG</td>\n",
       "      <td>NaN</td>\n",
       "      <td>7184617000</td>\n",
       "      <td>131-10 &amp; 131-40 MAPLE AVENUE</td>\n",
       "      <td>Queens</td>\n",
       "      <td>NY</td>\n",
       "      <td>11352</td>\n",
       "      <td>Manufacturing</td>\n",
       "      <td>MFG. ELECTRONIC EQUIPMENT</td>\n",
       "      <td>...</td>\n",
       "      <td>283913.77</td>\n",
       "      <td>Queens</td>\n",
       "      <td>NaN</td>\n",
       "      <td>NaN</td>\n",
       "      <td>NaN</td>\n",
       "      <td>NaN</td>\n",
       "      <td>NaN</td>\n",
       "      <td>NaN</td>\n",
       "      <td>NaN</td>\n",
       "      <td>NaN</td>\n",
       "    </tr>\n",
       "    <tr>\n",
       "      <th>269</th>\n",
       "      <td>Magellan Aerospace New York, Inc</td>\n",
       "      <td>Gregory Schmidt</td>\n",
       "      <td>gregory.schmidt@magellan.aero</td>\n",
       "      <td>7186994000</td>\n",
       "      <td>97-11 50th Ave</td>\n",
       "      <td>Queens</td>\n",
       "      <td>NY</td>\n",
       "      <td>11368</td>\n",
       "      <td>Manufacturing</td>\n",
       "      <td>Mfg aerospace landing gear, assemblies and parts</td>\n",
       "      <td>...</td>\n",
       "      <td>684838.68</td>\n",
       "      <td>Queens</td>\n",
       "      <td>40.742133</td>\n",
       "      <td>-73.865661</td>\n",
       "      <td>404.0</td>\n",
       "      <td>21.0</td>\n",
       "      <td>411.0</td>\n",
       "      <td>4440227.0</td>\n",
       "      <td>4.018800e+09</td>\n",
       "      <td>Corona</td>\n",
       "    </tr>\n",
       "    <tr>\n",
       "      <th>279</th>\n",
       "      <td>MEDITERRANEAN GYRO PRODUCTS</td>\n",
       "      <td>Sophie Maroulis</td>\n",
       "      <td>smaroulis@corfufoods.com</td>\n",
       "      <td>7187863399</td>\n",
       "      <td>11-14 38TH STREET</td>\n",
       "      <td>Queens</td>\n",
       "      <td>NY</td>\n",
       "      <td>11101</td>\n",
       "      <td>Manufacturing</td>\n",
       "      <td>mfg pita bread/whsl Greek specialty foods</td>\n",
       "      <td>...</td>\n",
       "      <td>88403.53</td>\n",
       "      <td>Queens</td>\n",
       "      <td>NaN</td>\n",
       "      <td>NaN</td>\n",
       "      <td>NaN</td>\n",
       "      <td>NaN</td>\n",
       "      <td>NaN</td>\n",
       "      <td>NaN</td>\n",
       "      <td>NaN</td>\n",
       "      <td>NaN</td>\n",
       "    </tr>\n",
       "    <tr>\n",
       "      <th>287</th>\n",
       "      <td>Montefiore Medical Center</td>\n",
       "      <td>Jeffrey  Hogan</td>\n",
       "      <td>pjenning@montefiore.org</td>\n",
       "      <td>7189202451</td>\n",
       "      <td>111 EAST 210TH STREET</td>\n",
       "      <td>BRONX</td>\n",
       "      <td>NY</td>\n",
       "      <td>10467</td>\n",
       "      <td>Commercial</td>\n",
       "      <td>Research Facility</td>\n",
       "      <td>...</td>\n",
       "      <td>7876903.11</td>\n",
       "      <td>Bronx</td>\n",
       "      <td>40.879885</td>\n",
       "      <td>-73.880481</td>\n",
       "      <td>207.0</td>\n",
       "      <td>11.0</td>\n",
       "      <td>421.0</td>\n",
       "      <td>2096399.0</td>\n",
       "      <td>2.033270e+09</td>\n",
       "      <td>Norwood</td>\n",
       "    </tr>\n",
       "    <tr>\n",
       "      <th>366</th>\n",
       "      <td>SILVERCUP Services LLC</td>\n",
       "      <td>GARY KESNER</td>\n",
       "      <td>gkesner@silvercupstudios.com</td>\n",
       "      <td>7189062300</td>\n",
       "      <td>42-22 22nd Street</td>\n",
       "      <td>Long Island City</td>\n",
       "      <td>NY</td>\n",
       "      <td>11101</td>\n",
       "      <td>Manufacturing</td>\n",
       "      <td>MFG- MOVIE AND TV PROD</td>\n",
       "      <td>...</td>\n",
       "      <td>1335829.73</td>\n",
       "      <td>Queens</td>\n",
       "      <td>40.751055</td>\n",
       "      <td>-73.943635</td>\n",
       "      <td>402.0</td>\n",
       "      <td>26.0</td>\n",
       "      <td>19.0</td>\n",
       "      <td>4005076.0</td>\n",
       "      <td>4.004270e+09</td>\n",
       "      <td>Hunters Point-Sunnyside-West Maspeth</td>\n",
       "    </tr>\n",
       "    <tr>\n",
       "      <th>379</th>\n",
       "      <td>Spin Master, Inc.</td>\n",
       "      <td>Mark Segal</td>\n",
       "      <td>hollyp@spinmaster.com</td>\n",
       "      <td>4163646002</td>\n",
       "      <td>30-30 47th Avenue</td>\n",
       "      <td>Lond Island City</td>\n",
       "      <td>NY</td>\n",
       "      <td>11101</td>\n",
       "      <td>Other</td>\n",
       "      <td>Novelty Products</td>\n",
       "      <td>...</td>\n",
       "      <td>962.95</td>\n",
       "      <td>Queens</td>\n",
       "      <td>40.743168</td>\n",
       "      <td>-73.936568</td>\n",
       "      <td>402.0</td>\n",
       "      <td>26.0</td>\n",
       "      <td>199.0</td>\n",
       "      <td>4003540.0</td>\n",
       "      <td>4.002820e+09</td>\n",
       "      <td>Hunters Point-Sunnyside-West Maspeth</td>\n",
       "    </tr>\n",
       "  </tbody>\n",
       "</table>\n",
       "<p>11 rows × 26 columns</p>\n",
       "</div>"
      ],
      "text/plain": [
       "                                Company Name    company contact  \\\n",
       "34   Albert Einstein College of Medicine R&D      Jack Zencheck   \n",
       "162                          FEDERAL EXPRESS     Samuel Adamson   \n",
       "163                          FEDERAL EXPRESS     Samuel Adamson   \n",
       "173                         FRESH DIRECT LLC           JOE LACY   \n",
       "227                   JetBlue Airways, Corp.        Dave Barger   \n",
       "242                              KEPCO, INC.  MARTIN KUPFERBERG   \n",
       "269         Magellan Aerospace New York, Inc    Gregory Schmidt   \n",
       "279              MEDITERRANEAN GYRO PRODUCTS    Sophie Maroulis   \n",
       "287                Montefiore Medical Center     Jeffrey  Hogan   \n",
       "366                   SILVERCUP Services LLC        GARY KESNER   \n",
       "379                        Spin Master, Inc.         Mark Segal   \n",
       "\n",
       "                     company email company phone  \\\n",
       "34                 mwinkle1@yu.edu    7184308977   \n",
       "162          sam.adamson@fedex.com    7187886000   \n",
       "163          sam.adamson@fedex.com    7187886000   \n",
       "173       gbennett@freshdirect.com    2128222203   \n",
       "227       Dave.Barger.@Jetblue.com    718-286-79   \n",
       "242                            NaN    7184617000   \n",
       "269  gregory.schmidt@magellan.aero    7186994000   \n",
       "279       smaroulis@corfufoods.com    7187863399   \n",
       "287        pjenning@montefiore.org    7189202451   \n",
       "366   gkesner@silvercupstudios.com    7189062300   \n",
       "379          hollyp@spinmaster.com    4163646002   \n",
       "\n",
       "                          Address              City State  Postcode  \\\n",
       "34             1196 Pierce Avenue             Bronx    NY     10461   \n",
       "162           830 Fountain Avenue          Brooklyn    NY     11239   \n",
       "163           830 Fountain Avenue          Brooklyn    NY     11239   \n",
       "173           23-30 BORDEN AVENUE            Queens    NY     11101   \n",
       "227      27-01 Bridge Plaza North  Long Island City    NY     11101   \n",
       "242  131-10 & 131-40 MAPLE AVENUE            Queens    NY     11352   \n",
       "269                97-11 50th Ave            Queens    NY     11368   \n",
       "279             11-14 38TH STREET            Queens    NY     11101   \n",
       "287         111 EAST 210TH STREET             BRONX    NY     10467   \n",
       "366             42-22 22nd Street  Long Island City    NY     11101   \n",
       "379             30-30 47th Avenue  Lond Island City    NY     11101   \n",
       "\n",
       "          Industry                                    Industry descr  ...  \\\n",
       "34           Other                                 Research facility  ...   \n",
       "162     Commercial                                    OVERNIGHT SHP.  ...   \n",
       "163     Commercial                                    OVERNIGHT SHP.  ...   \n",
       "173  Manufacturing                                  MFG. PERIS. FOOD  ...   \n",
       "227          Other                                       Back Office  ...   \n",
       "242  Manufacturing                         MFG. ELECTRONIC EQUIPMENT  ...   \n",
       "269  Manufacturing  Mfg aerospace landing gear, assemblies and parts  ...   \n",
       "279  Manufacturing         mfg pita bread/whsl Greek specialty foods  ...   \n",
       "287     Commercial                                 Research Facility  ...   \n",
       "366  Manufacturing                            MFG- MOVIE AND TV PROD  ...   \n",
       "379          Other                                  Novelty Products  ...   \n",
       "\n",
       "    Savings from beginning receiving benefits   Borough   Latitude  Longitude  \\\n",
       "34                                 5779327.33     Bronx  40.848176 -73.846583   \n",
       "162                                 378098.57  Brooklyn  40.659816 -73.866717   \n",
       "163                                 467120.83  Brooklyn  40.659816 -73.866717   \n",
       "173                                1989179.05    Queens  40.739918 -73.947213   \n",
       "227                                 592457.59    Queens  40.750561 -73.939315   \n",
       "242                                 283913.77    Queens        NaN        NaN   \n",
       "269                                 684838.68    Queens  40.742133 -73.865661   \n",
       "279                                  88403.53    Queens        NaN        NaN   \n",
       "287                                7876903.11     Bronx  40.879885 -73.880481   \n",
       "366                                1335829.73    Queens  40.751055 -73.943635   \n",
       "379                                    962.95    Queens  40.743168 -73.936568   \n",
       "\n",
       "    Community Board  Council District  Census Tract        BIN           BBL  \\\n",
       "34            211.0              13.0         286.0  2044325.0  2.040900e+09   \n",
       "162           305.0              42.0        1070.0  3346449.0  3.044520e+09   \n",
       "163           305.0              42.0        1070.0  3346449.0  3.044520e+09   \n",
       "173           402.0              26.0           1.0  4436621.0  4.000680e+09   \n",
       "227           401.0              26.0          33.0  4005016.0  4.004160e+09   \n",
       "242             NaN               NaN           NaN        NaN           NaN   \n",
       "269           404.0              21.0         411.0  4440227.0  4.018800e+09   \n",
       "279             NaN               NaN           NaN        NaN           NaN   \n",
       "287           207.0              11.0         421.0  2096399.0  2.033270e+09   \n",
       "366           402.0              26.0          19.0  4005076.0  4.004270e+09   \n",
       "379           402.0              26.0         199.0  4003540.0  4.002820e+09   \n",
       "\n",
       "                                          NTA  \n",
       "34    Van Nest-Morris Park-Westchester Square  \n",
       "162                             East New York  \n",
       "163                             East New York  \n",
       "173      Hunters Point-Sunnyside-West Maspeth  \n",
       "227  Queensbridge-Ravenswood-Long Island City  \n",
       "242                                       NaN  \n",
       "269                                    Corona  \n",
       "279                                       NaN  \n",
       "287                                   Norwood  \n",
       "366      Hunters Point-Sunnyside-West Maspeth  \n",
       "379      Hunters Point-Sunnyside-West Maspeth  \n",
       "\n",
       "[11 rows x 26 columns]"
      ]
     },
     "execution_count": 13,
     "metadata": {},
     "output_type": "execute_result"
    }
   ],
   "source": [
    "print(df.shape)\n",
    "df[df.duplicated('Company Name')]"
   ]
  },
  {
   "cell_type": "code",
   "execution_count": 14,
   "metadata": {},
   "outputs": [],
   "source": [
    "df_total_savings = pd.read_csv('nta_totalsavings.csv')\n",
    "df_jobs_created = pd.read_csv('nta_jobscreated.csv')"
   ]
  },
  {
   "cell_type": "code",
   "execution_count": 15,
   "metadata": {},
   "outputs": [
    {
     "data": {
      "text/html": [
       "<div>\n",
       "<style scoped>\n",
       "    .dataframe tbody tr th:only-of-type {\n",
       "        vertical-align: middle;\n",
       "    }\n",
       "\n",
       "    .dataframe tbody tr th {\n",
       "        vertical-align: top;\n",
       "    }\n",
       "\n",
       "    .dataframe thead th {\n",
       "        text-align: right;\n",
       "    }\n",
       "</style>\n",
       "<table border=\"1\" class=\"dataframe\">\n",
       "  <thead>\n",
       "    <tr style=\"text-align: right;\">\n",
       "      <th></th>\n",
       "      <th>NTA</th>\n",
       "      <th>Total Savings</th>\n",
       "      <th>Job created</th>\n",
       "    </tr>\n",
       "  </thead>\n",
       "  <tbody>\n",
       "    <tr>\n",
       "      <th>0</th>\n",
       "      <td>Battery Park City-Lower Manhattan</td>\n",
       "      <td>469890.796667</td>\n",
       "      <td>NaN</td>\n",
       "    </tr>\n",
       "    <tr>\n",
       "      <th>1</th>\n",
       "      <td>Bushwick South</td>\n",
       "      <td>26140.455000</td>\n",
       "      <td>10.0</td>\n",
       "    </tr>\n",
       "    <tr>\n",
       "      <th>2</th>\n",
       "      <td>Carroll Gardens-Columbia Street-Red Hook</td>\n",
       "      <td>24337.390000</td>\n",
       "      <td>NaN</td>\n",
       "    </tr>\n",
       "    <tr>\n",
       "      <th>3</th>\n",
       "      <td>College Point</td>\n",
       "      <td>17159.372857</td>\n",
       "      <td>2.0</td>\n",
       "    </tr>\n",
       "    <tr>\n",
       "      <th>4</th>\n",
       "      <td>Crown Heights North</td>\n",
       "      <td>4036.298889</td>\n",
       "      <td>NaN</td>\n",
       "    </tr>\n",
       "  </tbody>\n",
       "</table>\n",
       "</div>"
      ],
      "text/plain": [
       "                                        NTA  Total Savings  Job created\n",
       "0         Battery Park City-Lower Manhattan  469890.796667          NaN\n",
       "1                            Bushwick South   26140.455000         10.0\n",
       "2  Carroll Gardens-Columbia Street-Red Hook   24337.390000          NaN\n",
       "3                             College Point   17159.372857          2.0\n",
       "4                       Crown Heights North    4036.298889          NaN"
      ]
     },
     "execution_count": 15,
     "metadata": {},
     "output_type": "execute_result"
    }
   ],
   "source": [
    "# Merge\n",
    "\n",
    "df_savings_jobs = pd.merge(df_total_savings, df_jobs_created, how='outer')\n",
    "df_savings_jobs.head(5)"
   ]
  },
  {
   "attachments": {},
   "cell_type": "markdown",
   "metadata": {},
   "source": [
    "scatter plot of jobs created versus average savings. Use both a standard and a logarithmic scale for the average savings."
   ]
  },
  {
   "cell_type": "code",
   "execution_count": 16,
   "metadata": {},
   "outputs": [
    {
     "data": {
      "text/plain": [
       "<matplotlib.collections.PathCollection at 0x7fa45cb48c40>"
      ]
     },
     "execution_count": 16,
     "metadata": {},
     "output_type": "execute_result"
    },
    {
     "data": {
      "image/png": "[encoded data removed]",
      "text/plain": [
       "<Figure size 432x288 with 1 Axes>"
      ]
     },
     "metadata": {
      "needs_background": "light"
     },
     "output_type": "display_data"
    }
   ],
   "source": [
    "import matplotlib.pyplot as plt\n",
    "\n",
    "plt.scatter(data=df_savings_jobs, y='Job created', x='Total Savings')"
   ]
  },
  {
   "cell_type": "code",
   "execution_count": 17,
   "metadata": {},
   "outputs": [
    {
     "data": {
      "image/png": "[encoded data removed]",
      "text/plain": [
       "<Figure size 432x288 with 1 Axes>"
      ]
     },
     "metadata": {
      "needs_background": "light"
     },
     "output_type": "display_data"
    }
   ],
   "source": [
    "plt.scatter(data=df_savings_jobs, y='Job created', x='Total Savings')\n",
    "plt.xscale('log')"
   ]
  },
  {
   "attachments": {},
   "cell_type": "markdown",
   "metadata": {},
   "source": [
    "histogram of the log of the average total savings.\n"
   ]
  },
  {
   "cell_type": "code",
   "execution_count": 18,
   "metadata": {},
   "outputs": [
    {
     "data": {
      "image/png": "[encoded data removed]",
      "text/plain": [
       "<Figure size 432x288 with 1 Axes>"
      ]
     },
     "metadata": {
      "needs_background": "light"
     },
     "output_type": "display_data"
    }
   ],
   "source": [
    "plt.hist(data=df_savings_jobs, x=\"Total Savings\", bins=30)\n",
    "plt.xscale('log')"
   ]
  },
  {
   "attachments": {},
   "cell_type": "markdown",
   "metadata": {},
   "source": [
    "line plot of the total jobs created for each month."
   ]
  },
  {
   "cell_type": "code",
   "execution_count": 19,
   "metadata": {},
   "outputs": [
    {
     "data": {
      "text/plain": [
       "([<matplotlib.axis.XTick at 0x7fa4548a68c0>,\n",
       "  <matplotlib.axis.XTick at 0x7fa4548a5ba0>,\n",
       "  <matplotlib.axis.XTick at 0x7fa454842740>,\n",
       "  <matplotlib.axis.XTick at 0x7fa4548f1c60>,\n",
       "  <matplotlib.axis.XTick at 0x7fa4548f23b0>,\n",
       "  <matplotlib.axis.XTick at 0x7fa4548f2b00>,\n",
       "  <matplotlib.axis.XTick at 0x7fa4548f3250>,\n",
       "  <matplotlib.axis.XTick at 0x7fa4548f39a0>,\n",
       "  <matplotlib.axis.XTick at 0x7fa454728130>,\n",
       "  <matplotlib.axis.XTick at 0x7fa4548f3910>,\n",
       "  <matplotlib.axis.XTick at 0x7fa4548f2620>,\n",
       "  <matplotlib.axis.XTick at 0x7fa454728760>],\n",
       " [Text(0, 0, 'January'),\n",
       "  Text(1, 0, 'February'),\n",
       "  Text(2, 0, 'March'),\n",
       "  Text(3, 0, 'April'),\n",
       "  Text(4, 0, 'May'),\n",
       "  Text(5, 0, 'June'),\n",
       "  Text(6, 0, 'July'),\n",
       "  Text(7, 0, 'August'),\n",
       "  Text(8, 0, 'September'),\n",
       "  Text(9, 0, 'October'),\n",
       "  Text(10, 0, 'November'),\n",
       "  Text(11, 0, 'December')])"
      ]
     },
     "execution_count": 19,
     "metadata": {},
     "output_type": "execute_result"
    },
    {
     "data": {
      "image/png": "[encoded data removed]",
      "text/plain": [
       "<Figure size 1080x432 with 1 Axes>"
      ]
     },
     "metadata": {
      "needs_background": "light"
     },
     "output_type": "display_data"
    }
   ],
   "source": [
    "# Convert the date to a datetime format\n",
    "df['Effective Date'] = pd.to_datetime(df['Effective Date'], format='%m/%d/%Y')\n",
    "x=df['Effective Date'].dt.month\n",
    "y=df['Job created']\n",
    "\n",
    "month_names = ['January', 'February', 'March', 'April', 'May', 'June',\n",
    "               'July', 'August', 'September', 'October', 'November', 'December']\n",
    "\n",
    "plt.subplots(figsize=(15, 6))\n",
    "plt.plot(x, y)\n",
    "plt.xticks(range(len(month_names)), month_names, size='small', rotation=45)"
   ]
  }
 ],
 "metadata": {
  "kernelspec": {
   "display_name": "Python 3",
   "language": "python",
   "name": "python3"
  },
  "language_info": {
   "codemirror_mode": {
    "name": "ipython",
    "version": 3
   },
   "file_extension": ".py",
   "mimetype": "text/x-python",
   "name": "python",
   "nbconvert_exporter": "python",
   "pygments_lexer": "ipython3",
   "version": "3.10.6"
  },
  "orig_nbformat": 4,
  "vscode": {
   "interpreter": {
    "hash": "916dbcbb3f70747c44a77c7bcd40155683ae19c65e1c03b4aa3499c5328201f1"
   }
  }
 },
 "nbformat": 4,
 "nbformat_minor": 2
}
